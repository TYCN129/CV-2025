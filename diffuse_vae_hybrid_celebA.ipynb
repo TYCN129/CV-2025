{
  "cells": [
    {
      "cell_type": "markdown",
      "metadata": {
        "id": "sABsnTSKrzz0"
      },
      "source": [
        "### DiffuseVAE Formulation 1 (128 x 128) CelebA"
      ]
    },
    {
      "cell_type": "code",
      "execution_count": 1,
      "metadata": {
        "colab": {
          "base_uri": "https://localhost:8080/"
        },
        "id": "v6VLEdLYaDrR",
        "outputId": "f8dc3ab3-ebaa-40c4-db1c-671c88902ed6"
      },
      "outputs": [
        {
          "output_type": "stream",
          "name": "stdout",
          "text": [
            "Mounted at /content/drive\n"
          ]
        }
      ],
      "source": [
        "# prompt: mount to google drive\n",
        "\n",
        "from google.colab import drive\n",
        "drive.mount('/content/drive')\n"
      ]
    },
    {
      "cell_type": "code",
      "execution_count": 2,
      "metadata": {
        "id": "A8mH0xnbrzpR"
      },
      "outputs": [],
      "source": [
        "import torch\n",
        "import torch.nn as nn\n",
        "import torch.optim as optim\n",
        "import torchvision.transforms as transforms\n",
        "import torchvision.datasets as datasets\n",
        "import matplotlib.pyplot as plt\n",
        "\n",
        "import kagglehub\n",
        "from torch.utils.data import DataLoader, Subset\n",
        "from pathlib import Path\n",
        "from PIL import Image\n",
        "from torchvision.datasets import ImageFolder\n",
        "\n",
        "import torchvision.utils as vutils\n",
        "from diffusers import UNet2DModel, DDPMScheduler\n",
        "import numpy as np\n",
        "\n",
        "import torch.nn.functional as F\n"
      ]
    },
    {
      "cell_type": "code",
      "execution_count": 3,
      "metadata": {
        "id": "qW1WGB1zr_cC"
      },
      "outputs": [],
      "source": [
        "# Set device\n",
        "device = torch.device(\"cuda\" if torch.cuda.is_available() else \"cpu\")\n",
        "\n",
        "# Hyperparameters for VAE\n",
        "IMG_SIZE = 128\n",
        "LATENT_DIM = 128\n",
        "BATCH_SIZE = 128\n",
        "LEARNING_RATE = 1e-3\n",
        "EPOCHS = 50"
      ]
    },
    {
      "cell_type": "code",
      "execution_count": null,
      "metadata": {
        "id": "Z7krjYWpr829"
      },
      "outputs": [],
      "source": [
        "# # Preparing the dataset\n",
        "\n",
        "# # Download dataset using kagglehub\n",
        "# path = kagglehub.dataset_download(\"jessicali9530/celeba-dataset\")\n",
        "# data_dir = Path(path) / \"img_align_celeba\"\n",
        "\n",
        "# # Dataset transformation\n",
        "# transform = transforms.Compose([\n",
        "#     transforms.Resize((128, 128)),  # Resize to 128x128\n",
        "#     transforms.ToTensor(),\n",
        "# ])\n",
        "\n",
        "# # Load CelebA dataset from KaggleHub\n",
        "# dataset = ImageFolder(root=str(data_dir.parent), transform=transform)\n",
        "\n",
        "# # Select random 80k images from first 162770 images\n",
        "# torch.manual_seed(42)\n",
        "# indices = torch.randperm(162770)[:80000]\n",
        "# train_dataset = Subset(dataset, indices.tolist())\n",
        "\n",
        "# train_loader = DataLoader(train_dataset, batch_size=BATCH_SIZE, shuffle=True)\n"
      ]
    },
    {
      "cell_type": "code",
      "execution_count": 4,
      "metadata": {
        "id": "9W44Rv2usU0A"
      },
      "outputs": [],
      "source": [
        "# Define VAE model\n",
        "class VAE(nn.Module):\n",
        "    def __init__(self, latent_dim):\n",
        "        super(VAE, self).__init__()\n",
        "        self.encoder = nn.Sequential(\n",
        "            nn.Conv2d(3, 32, 4, 2, 1), nn.ReLU(),\n",
        "            nn.Conv2d(32, 64, 4, 2, 1), nn.ReLU(),\n",
        "            nn.Conv2d(64, 128, 4, 2, 1), nn.ReLU(),\n",
        "            nn.Conv2d(128, 256, 4, 2, 1), nn.ReLU()\n",
        "        )\n",
        "        self.fc_mu = nn.Linear(256 * 8 * 8, latent_dim)\n",
        "        self.fc_logvar = nn.Linear(256 * 8 * 8, latent_dim)\n",
        "        self.fc_decode = nn.Linear(latent_dim, 256 * 8 * 8)\n",
        "        self.decoder = nn.Sequential(\n",
        "            nn.ConvTranspose2d(256, 128, 4, 2, 1), nn.ReLU(),\n",
        "            nn.ConvTranspose2d(128, 64, 4, 2, 1), nn.ReLU(),\n",
        "            nn.ConvTranspose2d(64, 32, 4, 2, 1), nn.ReLU(),\n",
        "            nn.ConvTranspose2d(32, 3, 4, 2, 1), nn.Sigmoid()\n",
        "        )\n",
        "\n",
        "    def reparameterize(self, mu, logvar):\n",
        "        std = torch.exp(0.5 * logvar)\n",
        "        eps = torch.randn_like(std)\n",
        "        return mu + eps * std\n",
        "\n",
        "    def encode(self, x):\n",
        "        x = self.encoder(x).view(x.size(0), -1)\n",
        "        mu, logvar = self.fc_mu(x), self.fc_logvar(x)\n",
        "        z = self.reparameterize(mu, logvar)\n",
        "        return z, mu, logvar\n",
        "\n",
        "    def decode(self, z):\n",
        "        x = self.fc_decode(z).view(z.size(0), 256, 8, 8)\n",
        "        return self.decoder(x)\n",
        "\n",
        "    def forward(self, x):\n",
        "        z, mu, logvar = self.encode(x)\n",
        "        recon_x = self.decode(z)\n",
        "        return recon_x, mu, logvar\n",
        "\n",
        "# Loss function\n",
        "def loss_function(recon_x, x, mu, logvar):\n",
        "    recon_loss = nn.functional.mse_loss(recon_x, x, reduction='sum')\n",
        "    kl_div = -0.5 * torch.sum(1 + logvar - mu.pow(2) - logvar.exp())\n",
        "    return recon_loss + kl_div"
      ]
    },
    {
      "cell_type": "code",
      "execution_count": 5,
      "metadata": {
        "id": "agkfk9NFscBz"
      },
      "outputs": [],
      "source": [
        "TRAIN_VAE = False # set to true for new model"
      ]
    },
    {
      "cell_type": "code",
      "execution_count": 7,
      "metadata": {
        "colab": {
          "base_uri": "https://localhost:8080/"
        },
        "id": "8mjNrYe7VQTz",
        "outputId": "66c945ea-baa7-484d-ae4f-deed5c24f021"
      },
      "outputs": [
        {
          "output_type": "stream",
          "name": "stdout",
          "text": [
            "VAE model at /content/vae_model_celeba_50_convention_gpt.pth loaded successfully!\n"
          ]
        }
      ],
      "source": [
        "# Train the model\n",
        "vae = VAE(LATENT_DIM).to(device)\n",
        "\n",
        "if not TRAIN_VAE:\n",
        "  # Load pretrained model\n",
        "  PATH = \"/content/vae_model_celeba_50_convention_gpt.pth\"\n",
        "  vae.load_state_dict(torch.load(PATH))\n",
        "  print(f\"VAE model at {PATH} loaded successfully!\")\n",
        "else:\n",
        "  optimizer = optim.Adam(vae.parameters(), lr=LEARNING_RATE)\n",
        "\n",
        "  for epoch in range(EPOCHS):\n",
        "      vae.train()\n",
        "      train_loss = 0\n",
        "      for imgs, _ in train_loader:\n",
        "          imgs = imgs.to(device)\n",
        "          optimizer.zero_grad()\n",
        "          recon_imgs, mu, logvar = vae(imgs)\n",
        "          loss = loss_function(recon_imgs, imgs, mu, logvar)\n",
        "          loss.backward()\n",
        "          optimizer.step()\n",
        "          train_loss += loss.item()\n",
        "      print(f\"Epoch {epoch+1}/{EPOCHS}, Loss: {train_loss/len(dataset):.4f}\")\n",
        "\n",
        "  # Save the trained model\n",
        "  torch.save(vae.state_dict(), \"/content/vae_model_celeba_50_2.pth\")\n",
        "\n",
        "  print(\"Training complete!\")"
      ]
    },
    {
      "cell_type": "code",
      "execution_count": 8,
      "metadata": {
        "id": "vbkS6UcAssRC"
      },
      "outputs": [],
      "source": [
        "# Display some reconstructions\n",
        "def show_reconstructions(loader, title):\n",
        "    vae.eval()\n",
        "    with torch.no_grad():\n",
        "        imgs, _ = next(iter(loader))\n",
        "        imgs = imgs.to(device)\n",
        "        recon_imgs, _, _ = vae(imgs)\n",
        "        imgs, recon_imgs = imgs.cpu(), recon_imgs.cpu()\n",
        "        fig, axes = plt.subplots(2, 8, figsize=(12, 4))\n",
        "        for i in range(8):\n",
        "            axes[0, i].imshow(imgs[i].permute(1, 2, 0))\n",
        "            axes[0, i].axis('off')\n",
        "            axes[1, i].imshow(recon_imgs[i].permute(1, 2, 0))\n",
        "            axes[1, i].axis('off')\n",
        "        plt.suptitle(title)\n",
        "        plt.show()\n",
        "    return recon_imgs"
      ]
    },
    {
      "cell_type": "code",
      "execution_count": null,
      "metadata": {
        "id": "0vtHXEkNWs4a"
      },
      "outputs": [],
      "source": [
        "# recon_imgs = show_reconstructions(train_loader, \"Train Data Reconstructions\")"
      ]
    },
    {
      "cell_type": "code",
      "execution_count": 9,
      "metadata": {
        "id": "01vNqPBFuY_Z"
      },
      "outputs": [],
      "source": [
        "BATCH_SIZE = 16\n",
        "EPOCHS = 50\n",
        "LR = 2e-4\n",
        "TOTAL_TIMESTEPS=1000"
      ]
    },
    {
      "cell_type": "code",
      "execution_count": 10,
      "metadata": {
        "id": "JKGR86fR1t7k"
      },
      "outputs": [],
      "source": [
        "# Preparing the dataset\n",
        "\n",
        "# Download dataset using kagglehub\n",
        "path = kagglehub.dataset_download(\"jessicali9530/celeba-dataset\")\n",
        "data_dir = Path(path) / \"img_align_celeba\"\n",
        "\n",
        "# Dataset transformation\n",
        "transform = transforms.Compose([\n",
        "    transforms.Resize((128, 128)),  # Resize to 128x128\n",
        "    transforms.ToTensor(),\n",
        "])\n",
        "\n",
        "# Load CelebA dataset from KaggleHub\n",
        "dataset = ImageFolder(root=str(data_dir.parent), transform=transform)\n",
        "\n",
        "# Select random 80k images from first 162770 images\n",
        "torch.manual_seed(42)\n",
        "indices = torch.randperm(162770)[:10000]\n",
        "train_dataset = Subset(dataset, indices.tolist())\n",
        "\n",
        "train_loader = DataLoader(train_dataset, batch_size=BATCH_SIZE, shuffle=True)\n"
      ]
    },
    {
      "cell_type": "code",
      "execution_count": null,
      "metadata": {
        "id": "Kroe_MD0VQT4"
      },
      "outputs": [],
      "source": [
        "# Data Loading and Preprocessing\n",
        "# transform = transforms.Compose([\n",
        "#     transforms.CenterCrop(178),  # Crop center to remove background\n",
        "#     transforms.Resize((IMG_SIZE, IMG_SIZE)),\n",
        "#     transforms.ToTensor(),\n",
        "#     transforms.Normalize([0.5], [0.5])\n",
        "# ])\n",
        "# import kagglehub\n",
        "# path = kagglehub.dataset_download(\"jessicali9530/celeba-dataset\")\n",
        "# torch.manual_seed(42)\n",
        "# indices = torch.randperm(162770)[:80000] # 80k subset of training image indices\n",
        "# indices = torch.randperm(162770)[:10000] # 80k subset of training image indices\n",
        "\n",
        "# dataset = datasets.ImageFolder(root=path, transform=transform)\n",
        "# dataset = Subset(dataset, indices)  # Create subset of dataset\n",
        "\n",
        "# dataloader = DataLoader(dataset, batch_size=BATCH_SIZE, shuffle=True, num_workers=4, pin_memory=True)"
      ]
    },
    {
      "cell_type": "code",
      "execution_count": 11,
      "metadata": {
        "colab": {
          "base_uri": "https://localhost:8080/"
        },
        "id": "vPLIvfyZVQT7",
        "outputId": "5219af52-5402-4c96-d16d-6e446d80a2bb"
      },
      "outputs": [
        {
          "output_type": "stream",
          "name": "stderr",
          "text": [
            "/usr/local/lib/python3.11/dist-packages/diffusers/schedulers/scheduling_ddpm.py:200: UserWarning: To copy construct from a tensor, it is recommended to use sourceTensor.clone().detach() or sourceTensor.clone().detach().requires_grad_(True), rather than torch.tensor(sourceTensor).\n",
            "  self.betas = torch.tensor(trained_betas, dtype=torch.float32)\n"
          ]
        }
      ],
      "source": [
        "# Define the UNet model\n",
        "\n",
        "# Define your diffusion U-Net model (accepting 6-channel input: x_t + x̂₀)\n",
        "diffusion_model = UNet2DModel(\n",
        "    sample_size=64,         # <-- set to 64 for 64x64 images\n",
        "    in_channels=6,          # x_t (3) + x̂₀ (3)\n",
        "    out_channels=3,\n",
        "    layers_per_block=2,\n",
        "    block_out_channels=[64, 128, 256, 512],  # you can remove the last 512 if memory is an issue\n",
        "    down_block_types=(\"DownBlock2D\", \"AttnDownBlock2D\", \"DownBlock2D\", \"AttnDownBlock2D\"),\n",
        "    up_block_types=(\"UpBlock2D\", \"AttnUpBlock2D\", \"UpBlock2D\", \"AttnUpBlock2D\")\n",
        ").to(device)\n",
        "\n",
        "\n",
        "# Diffusion scheduler (Using cosine beta schedule)\n",
        "betas = np.linspace(1e-5, 1e-2, TOTAL_TIMESTEPS, dtype=np.float32)\n",
        "\n",
        "scheduler = DDPMScheduler(\n",
        "    num_train_timesteps=TOTAL_TIMESTEPS,\n",
        "    trained_betas=torch.tensor(betas, dtype=torch.float32, device=device)\n",
        ")\n",
        "\n",
        "# Optimizer with Cosine Annealing LR Scheduler\n",
        "optimizer = optim.AdamW(diffusion_model.parameters(), lr=LR, betas=(0.9, 0.999), weight_decay=1e-2)\n",
        "lr_scheduler = torch.optim.lr_scheduler.CosineAnnealingLR(optimizer, T_max=EPOCHS, eta_min=1e-6)"
      ]
    },
    {
      "cell_type": "code",
      "execution_count": 12,
      "metadata": {
        "id": "Z6pKN-Fnusib"
      },
      "outputs": [],
      "source": [
        "def train_ddpm_step(vae, diffusion_model, scheduler, optimizer, real_images):\n",
        "    diffusion_model.train()\n",
        "    optimizer.zero_grad()\n",
        "\n",
        "    # Get VAE reconstruction\n",
        "    with torch.no_grad():\n",
        "        z,mu,logvar = vae.encode(real_images)\n",
        "        x_hat_0 = vae.decode(z)               # shape: (B, 3, 128, 128)\n",
        "\n",
        "    # Sample random timestep t\n",
        "    bsz = real_images.size(0)\n",
        "    t = torch.randint(0, scheduler.num_train_timesteps, (bsz,), device=real_images.device).long()\n",
        "\n",
        "    real_images = F.interpolate(real_images, size=(64, 64), mode='bilinear', align_corners=False)\n",
        "\n",
        "    # Sample noise and create x_t\n",
        "    noise = torch.randn_like(real_images)\n",
        "    x_t = scheduler.add_noise(real_images, noise, t)\n",
        "\n",
        "    x_hat_0 = F.interpolate(x_hat_0, size=(64, 64), mode='bilinear', align_corners=False)\n",
        "    x_t = F.interpolate(x_t, size=(64, 64), mode='bilinear', align_corners=False)\n",
        "\n",
        "    # Concatenate x_t and x̂₀\n",
        "    model_input = torch.cat([x_t, x_hat_0], dim=1)  # shape: (B, 6, 64, 64)\n",
        "\n",
        "    # Predict noise\n",
        "    pred_noise = diffusion_model(model_input, timestep=t).sample\n",
        "\n",
        "\n",
        "    # Loss (mean squared error between predicted noise and true noise)\n",
        "    loss = nn.MSELoss()(pred_noise, noise)\n",
        "    loss.backward()\n",
        "    optimizer.step()\n",
        "\n",
        "    return loss.item()"
      ]
    },
    {
      "cell_type": "code",
      "execution_count": 13,
      "metadata": {
        "id": "mPctlwoNvkhW"
      },
      "outputs": [],
      "source": [
        "# === 6. Assume you have a pretrained VAE ===\n",
        "# Must implement: encode(x) and decode(z)\n",
        "vae = VAE(LATENT_DIM).to(device)\n",
        "\n",
        "# Load pretrained model\n",
        "vae.load_state_dict(torch.load(\"/content/vae_model_celeba_50_convention_gpt.pth\"))\n",
        "vae.eval()  # Freeze VAE\n",
        "for p in vae.parameters():\n",
        "    p.requires_grad = False\n"
      ]
    },
    {
      "cell_type": "code",
      "source": [
        "# prompt: load the diffusion model from Epoch 3\n",
        "\n",
        "# Load the diffusion model from epoch 3\n",
        "epoch_num = 2\n",
        "diffusion_model.load_state_dict(torch.load(f\"/content/drive/MyDrive/diffusion_celeba_epoch3.pth\"))\n",
        "print(f\"Diffusion model loaded from epoch {epoch_num}\")\n",
        "\n",
        "# Now you can use the loaded diffusion_model for inference or further training"
      ],
      "metadata": {
        "colab": {
          "base_uri": "https://localhost:8080/"
        },
        "id": "w7maMQI1p7QE",
        "outputId": "9e5d5afd-410d-42d6-90d8-e20350a2aa2b"
      },
      "execution_count": 16,
      "outputs": [
        {
          "output_type": "stream",
          "name": "stdout",
          "text": [
            "Diffusion model loaded from epoch 2\n"
          ]
        }
      ]
    },
    {
      "cell_type": "code",
      "execution_count": 15,
      "metadata": {
        "colab": {
          "base_uri": "https://localhost:8080/",
          "height": 984
        },
        "id": "4r5-GkymvnI-",
        "outputId": "28a0d381-d612-41ed-dfa0-95e2114900ec"
      },
      "outputs": [
        {
          "output_type": "stream",
          "name": "stderr",
          "text": [
            "/usr/local/lib/python3.11/dist-packages/diffusers/configuration_utils.py:140: FutureWarning: Accessing config attribute `num_train_timesteps` directly via 'DDPMScheduler' object attribute is deprecated. Please access 'num_train_timesteps' over 'DDPMScheduler's config object instead, e.g. 'scheduler.config.num_train_timesteps'.\n",
            "  deprecate(\"direct config name access\", \"1.0.0\", deprecation_message, standard_warn=False)\n"
          ]
        },
        {
          "output_type": "stream",
          "name": "stdout",
          "text": [
            "Epoch 1 | Step 0 | Loss: 0.0238\n",
            "Epoch 1 | Step 100 | Loss: 0.0231\n",
            "Epoch 1 | Step 200 | Loss: 0.0318\n",
            "Epoch 1 | Step 300 | Loss: 0.0087\n",
            "Epoch 1 | Step 400 | Loss: 0.0133\n",
            "Epoch 1 | Step 500 | Loss: 0.0129\n",
            "Epoch 1 | Step 600 | Loss: 0.0160\n",
            "Epoch 1 completed. Avg Loss: 0.0220\n",
            "Epoch 2 | Step 0 | Loss: 0.0095\n",
            "Epoch 2 | Step 100 | Loss: 0.0414\n",
            "Epoch 2 | Step 200 | Loss: 0.0052\n",
            "Epoch 2 | Step 300 | Loss: 0.0159\n",
            "Epoch 2 | Step 400 | Loss: 0.0636\n",
            "Epoch 2 | Step 500 | Loss: 0.0582\n",
            "Epoch 2 | Step 600 | Loss: 0.0165\n",
            "Epoch 2 completed. Avg Loss: 0.0195\n",
            "Epoch 3 | Step 0 | Loss: 0.0360\n",
            "Epoch 3 | Step 100 | Loss: 0.0058\n",
            "Epoch 3 | Step 200 | Loss: 0.0111\n",
            "Epoch 3 | Step 300 | Loss: 0.0168\n",
            "Epoch 3 | Step 400 | Loss: 0.0088\n",
            "Epoch 3 | Step 500 | Loss: 0.0162\n",
            "Epoch 3 | Step 600 | Loss: 0.0462\n",
            "Epoch 3 completed. Avg Loss: 0.0190\n",
            "Epoch 4 | Step 0 | Loss: 0.0201\n",
            "Epoch 4 | Step 100 | Loss: 0.0161\n",
            "Epoch 4 | Step 200 | Loss: 0.0246\n",
            "Epoch 4 | Step 300 | Loss: 0.0068\n",
            "Epoch 4 | Step 400 | Loss: 0.0079\n",
            "Epoch 4 | Step 500 | Loss: 0.0333\n",
            "Epoch 4 | Step 600 | Loss: 0.0079\n",
            "Epoch 4 completed. Avg Loss: 0.0185\n",
            "Epoch 5 | Step 0 | Loss: 0.0118\n"
          ]
        },
        {
          "output_type": "error",
          "ename": "KeyboardInterrupt",
          "evalue": "",
          "traceback": [
            "\u001b[0;31m---------------------------------------------------------------------------\u001b[0m",
            "\u001b[0;31mKeyboardInterrupt\u001b[0m                         Traceback (most recent call last)",
            "\u001b[0;32m<ipython-input-15-69c4d849134f>\u001b[0m in \u001b[0;36m<cell line: 0>\u001b[0;34m()\u001b[0m\n\u001b[1;32m      4\u001b[0m         \u001b[0mimages\u001b[0m \u001b[0;34m=\u001b[0m \u001b[0mimages\u001b[0m\u001b[0;34m.\u001b[0m\u001b[0mto\u001b[0m\u001b[0;34m(\u001b[0m\u001b[0mdevice\u001b[0m\u001b[0;34m)\u001b[0m\u001b[0;34m\u001b[0m\u001b[0;34m\u001b[0m\u001b[0m\n\u001b[1;32m      5\u001b[0m \u001b[0;34m\u001b[0m\u001b[0m\n\u001b[0;32m----> 6\u001b[0;31m         \u001b[0mloss\u001b[0m \u001b[0;34m=\u001b[0m \u001b[0mtrain_ddpm_step\u001b[0m\u001b[0;34m(\u001b[0m\u001b[0mvae\u001b[0m\u001b[0;34m,\u001b[0m \u001b[0mdiffusion_model\u001b[0m\u001b[0;34m,\u001b[0m \u001b[0mscheduler\u001b[0m\u001b[0;34m,\u001b[0m \u001b[0moptimizer\u001b[0m\u001b[0;34m,\u001b[0m \u001b[0mimages\u001b[0m\u001b[0;34m)\u001b[0m\u001b[0;34m\u001b[0m\u001b[0;34m\u001b[0m\u001b[0m\n\u001b[0m\u001b[1;32m      7\u001b[0m         \u001b[0mtotal_loss\u001b[0m \u001b[0;34m+=\u001b[0m \u001b[0mloss\u001b[0m\u001b[0;34m\u001b[0m\u001b[0;34m\u001b[0m\u001b[0m\n\u001b[1;32m      8\u001b[0m \u001b[0;34m\u001b[0m\u001b[0m\n",
            "\u001b[0;32m<ipython-input-12-758333a48990>\u001b[0m in \u001b[0;36mtrain_ddpm_step\u001b[0;34m(vae, diffusion_model, scheduler, optimizer, real_images)\u001b[0m\n\u001b[1;32m     30\u001b[0m     \u001b[0;31m# Loss (mean squared error between predicted noise and true noise)\u001b[0m\u001b[0;34m\u001b[0m\u001b[0;34m\u001b[0m\u001b[0m\n\u001b[1;32m     31\u001b[0m     \u001b[0mloss\u001b[0m \u001b[0;34m=\u001b[0m \u001b[0mnn\u001b[0m\u001b[0;34m.\u001b[0m\u001b[0mMSELoss\u001b[0m\u001b[0;34m(\u001b[0m\u001b[0;34m)\u001b[0m\u001b[0;34m(\u001b[0m\u001b[0mpred_noise\u001b[0m\u001b[0;34m,\u001b[0m \u001b[0mnoise\u001b[0m\u001b[0;34m)\u001b[0m\u001b[0;34m\u001b[0m\u001b[0;34m\u001b[0m\u001b[0m\n\u001b[0;32m---> 32\u001b[0;31m     \u001b[0mloss\u001b[0m\u001b[0;34m.\u001b[0m\u001b[0mbackward\u001b[0m\u001b[0;34m(\u001b[0m\u001b[0;34m)\u001b[0m\u001b[0;34m\u001b[0m\u001b[0;34m\u001b[0m\u001b[0m\n\u001b[0m\u001b[1;32m     33\u001b[0m     \u001b[0moptimizer\u001b[0m\u001b[0;34m.\u001b[0m\u001b[0mstep\u001b[0m\u001b[0;34m(\u001b[0m\u001b[0;34m)\u001b[0m\u001b[0;34m\u001b[0m\u001b[0;34m\u001b[0m\u001b[0m\n\u001b[1;32m     34\u001b[0m \u001b[0;34m\u001b[0m\u001b[0m\n",
            "\u001b[0;32m/usr/local/lib/python3.11/dist-packages/torch/_tensor.py\u001b[0m in \u001b[0;36mbackward\u001b[0;34m(self, gradient, retain_graph, create_graph, inputs)\u001b[0m\n\u001b[1;32m    624\u001b[0m                 \u001b[0minputs\u001b[0m\u001b[0;34m=\u001b[0m\u001b[0minputs\u001b[0m\u001b[0;34m,\u001b[0m\u001b[0;34m\u001b[0m\u001b[0;34m\u001b[0m\u001b[0m\n\u001b[1;32m    625\u001b[0m             )\n\u001b[0;32m--> 626\u001b[0;31m         torch.autograd.backward(\n\u001b[0m\u001b[1;32m    627\u001b[0m             \u001b[0mself\u001b[0m\u001b[0;34m,\u001b[0m \u001b[0mgradient\u001b[0m\u001b[0;34m,\u001b[0m \u001b[0mretain_graph\u001b[0m\u001b[0;34m,\u001b[0m \u001b[0mcreate_graph\u001b[0m\u001b[0;34m,\u001b[0m \u001b[0minputs\u001b[0m\u001b[0;34m=\u001b[0m\u001b[0minputs\u001b[0m\u001b[0;34m\u001b[0m\u001b[0;34m\u001b[0m\u001b[0m\n\u001b[1;32m    628\u001b[0m         )\n",
            "\u001b[0;32m/usr/local/lib/python3.11/dist-packages/torch/autograd/__init__.py\u001b[0m in \u001b[0;36mbackward\u001b[0;34m(tensors, grad_tensors, retain_graph, create_graph, grad_variables, inputs)\u001b[0m\n\u001b[1;32m    345\u001b[0m     \u001b[0;31m# some Python versions print out the first line of a multi-line function\u001b[0m\u001b[0;34m\u001b[0m\u001b[0;34m\u001b[0m\u001b[0m\n\u001b[1;32m    346\u001b[0m     \u001b[0;31m# calls in the traceback and some print out the last line\u001b[0m\u001b[0;34m\u001b[0m\u001b[0;34m\u001b[0m\u001b[0m\n\u001b[0;32m--> 347\u001b[0;31m     _engine_run_backward(\n\u001b[0m\u001b[1;32m    348\u001b[0m         \u001b[0mtensors\u001b[0m\u001b[0;34m,\u001b[0m\u001b[0;34m\u001b[0m\u001b[0;34m\u001b[0m\u001b[0m\n\u001b[1;32m    349\u001b[0m         \u001b[0mgrad_tensors_\u001b[0m\u001b[0;34m,\u001b[0m\u001b[0;34m\u001b[0m\u001b[0;34m\u001b[0m\u001b[0m\n",
            "\u001b[0;32m/usr/local/lib/python3.11/dist-packages/torch/autograd/graph.py\u001b[0m in \u001b[0;36m_engine_run_backward\u001b[0;34m(t_outputs, *args, **kwargs)\u001b[0m\n\u001b[1;32m    821\u001b[0m         \u001b[0munregister_hooks\u001b[0m \u001b[0;34m=\u001b[0m \u001b[0m_register_logging_hooks_on_whole_graph\u001b[0m\u001b[0;34m(\u001b[0m\u001b[0mt_outputs\u001b[0m\u001b[0;34m)\u001b[0m\u001b[0;34m\u001b[0m\u001b[0;34m\u001b[0m\u001b[0m\n\u001b[1;32m    822\u001b[0m     \u001b[0;32mtry\u001b[0m\u001b[0;34m:\u001b[0m\u001b[0;34m\u001b[0m\u001b[0;34m\u001b[0m\u001b[0m\n\u001b[0;32m--> 823\u001b[0;31m         return Variable._execution_engine.run_backward(  # Calls into the C++ engine to run the backward pass\n\u001b[0m\u001b[1;32m    824\u001b[0m             \u001b[0mt_outputs\u001b[0m\u001b[0;34m,\u001b[0m \u001b[0;34m*\u001b[0m\u001b[0margs\u001b[0m\u001b[0;34m,\u001b[0m \u001b[0;34m**\u001b[0m\u001b[0mkwargs\u001b[0m\u001b[0;34m\u001b[0m\u001b[0;34m\u001b[0m\u001b[0m\n\u001b[1;32m    825\u001b[0m         )  # Calls into the C++ engine to run the backward pass\n",
            "\u001b[0;31mKeyboardInterrupt\u001b[0m: "
          ]
        }
      ],
      "source": [
        "for epoch in range(EPOCHS):\n",
        "    total_loss = 0\n",
        "    for i, (images, _) in enumerate(train_loader):\n",
        "        images = images.to(device)\n",
        "\n",
        "        loss = train_ddpm_step(vae, diffusion_model, scheduler, optimizer, images)\n",
        "        total_loss += loss\n",
        "\n",
        "        if i % 100 == 0:\n",
        "            print(f\"Epoch {epoch+1} | Step {i} | Loss: {loss:.4f}\")\n",
        "\n",
        "            torch.save(diffusion_model.state_dict(), f\"/content/drive/MyDrive/diffusion_celeba_epoch{epoch}_{i}.pth\")\n",
        "\n",
        "\n",
        "    # Every epoch save checkpoint\n",
        "    torch.save(diffusion_model.state_dict(), f\"/content/drive/MyDrive/diffusion_celeba_epoch{epoch}.pth\")\n",
        "\n",
        "    lr_scheduler.step()\n",
        "    avg_loss = total_loss / len(train_loader)\n",
        "    print(f\"Epoch {epoch+1} completed. Avg Loss: {avg_loss:.4f}\")\n"
      ]
    },
    {
      "cell_type": "code",
      "execution_count": 17,
      "metadata": {
        "id": "GKE07Ai6Savw"
      },
      "outputs": [],
      "source": [
        "import torch\n",
        "from torchvision.utils import make_grid\n",
        "import matplotlib.pyplot as plt\n",
        "\n",
        "def show_images(images, title=\"\"):\n",
        "    # images = (images.clamp(-1, 1) + 1) / 2  # Normalize to [0, 1]\n",
        "    grid = make_grid(images, nrow=5)\n",
        "    npimg = grid.permute(1, 2, 0).cpu().numpy()\n",
        "    plt.figure(figsize=(10, 5))\n",
        "    plt.title(title)\n",
        "    plt.imshow(npimg)\n",
        "    plt.axis(\"off\")\n",
        "    plt.show()\n"
      ]
    },
    {
      "cell_type": "code",
      "execution_count": 18,
      "metadata": {
        "id": "FnqHzID3Sbh3"
      },
      "outputs": [],
      "source": [
        "@torch.no_grad()\n",
        "def sample_from_diffuse_vae(vae, diffusion_model, scheduler, num_samples):\n",
        "    vae.eval()\n",
        "    diffusion_model.eval()\n",
        "\n",
        "    # Sample z ~ N(0, I)\n",
        "    z = torch.randn((num_samples, LATENT_DIM)).to(device)\n",
        "\n",
        "    # Get VAE reconstructions (x̂₀) from latent\n",
        "    x_hat_0 = vae.decode(z)  # shape: (num_samples, 3, 64, 64)\n",
        "    x_hat_0 = F.interpolate(x_hat_0, size=(64, 64), mode='bilinear', align_corners=False)\n",
        "    show_images(x_hat_0, title=\"VAE reconstructions\")\n",
        "\n",
        "    # Start from pure Gaussian noise\n",
        "    x_t = torch.randn_like(x_hat_0)\n",
        "\n",
        "    for t in reversed(range(scheduler.config.num_train_timesteps)):\n",
        "        t_batch = torch.full((num_samples,), t, device=device, dtype=torch.long)\n",
        "\n",
        "        # Prepare model input\n",
        "        model_input = torch.cat([x_t, x_hat_0], dim=1)  # (B, 6, 64, 64)\n",
        "\n",
        "        # Predict noise\n",
        "        noise_pred = diffusion_model(model_input, t_batch).sample\n",
        "\n",
        "        # Loop over batch because DDPMScheduler.step doesn't support batched t\n",
        "        x_t_next = []\n",
        "        for i in range(num_samples):\n",
        "            out = scheduler.step(\n",
        "                model_output=noise_pred[i].unsqueeze(0),\n",
        "                timestep=t_batch[i].item(),\n",
        "                sample=x_t[i].unsqueeze(0)\n",
        "            )\n",
        "            x_t_next.append(out.prev_sample)\n",
        "\n",
        "        # Stack outputs back to a batch\n",
        "        x_t = torch.cat(x_t_next, dim=0)\n",
        "\n",
        "    return x_t  # final denoised sample\n",
        "\n",
        "\n",
        "def reconstruct_with_diffuse_vae(vae, diffusion_model, scheduler, real_images, num_samples=10):\n",
        "    diffusion_model.eval()\n",
        "    vae.eval()\n",
        "\n",
        "    images = real_images[:num_samples].to(device)\n",
        "\n",
        "    with torch.no_grad():\n",
        "        z = vae.encode(images).sample()\n",
        "        x_hat_0 = vae.decode(z)\n",
        "\n",
        "        # Start from noise\n",
        "        x_t = torch.randn_like(x_hat_0)\n",
        "\n",
        "        for t in reversed(range(scheduler.num_train_timesteps)):\n",
        "            t_batch = torch.tensor([t] * num_samples, device=device)\n",
        "            model_input = torch.cat([x_t, x_hat_0], dim=1)\n",
        "            noise_pred = diffusion_model(model_input, timestep=t_batch).sample\n",
        "            x_t = scheduler.step(noise_pred, t_batch, x_t).prev_sample\n",
        "\n",
        "        return x_t, images  # Return both reconstructed and original\n"
      ]
    },
    {
      "cell_type": "code",
      "execution_count": 20,
      "metadata": {
        "colab": {
          "base_uri": "https://localhost:8080/",
          "height": 960
        },
        "id": "EXluAblqSsOk",
        "outputId": "5598870f-724b-4520-c0e6-ac3546bffeda"
      },
      "outputs": [
        {
          "output_type": "display_data",
          "data": {
            "text/plain": [
              "<Figure size 1000x500 with 1 Axes>"
            ],
            "image/png": "[encoded data removed]"
          },
          "metadata": {}
        },
        {
          "output_type": "stream",
          "name": "stderr",
          "text": [
            "WARNING:matplotlib.image:Clipping input data to the valid range for imshow with RGB data ([0..1] for floats or [0..255] for integers). Got range [-0.45391855..0.89972776].\n"
          ]
        },
        {
          "output_type": "display_data",
          "data": {
            "text/plain": [
              "<Figure size 1000x500 with 1 Axes>"
            ],
            "image/png": "[encoded data removed]"
          },
          "metadata": {}
        },
        {
          "output_type": "error",
          "ename": "AttributeError",
          "evalue": "'tuple' object has no attribute 'sample'",
          "traceback": [
            "\u001b[0;31m---------------------------------------------------------------------------\u001b[0m",
            "\u001b[0;31mAttributeError\u001b[0m                            Traceback (most recent call last)",
            "\u001b[0;32m<ipython-input-20-ac1cc3110997>\u001b[0m in \u001b[0;36m<cell line: 0>\u001b[0;34m()\u001b[0m\n\u001b[1;32m      5\u001b[0m \u001b[0;31m# 2. Reconstruct 10 real images\u001b[0m\u001b[0;34m\u001b[0m\u001b[0;34m\u001b[0m\u001b[0m\n\u001b[1;32m      6\u001b[0m \u001b[0mreal_batch\u001b[0m \u001b[0;34m=\u001b[0m \u001b[0mnext\u001b[0m\u001b[0;34m(\u001b[0m\u001b[0miter\u001b[0m\u001b[0;34m(\u001b[0m\u001b[0mtrain_loader\u001b[0m\u001b[0;34m)\u001b[0m\u001b[0;34m)\u001b[0m\u001b[0;34m[\u001b[0m\u001b[0;36m0\u001b[0m\u001b[0;34m]\u001b[0m\u001b[0;34m\u001b[0m\u001b[0;34m\u001b[0m\u001b[0m\n\u001b[0;32m----> 7\u001b[0;31m \u001b[0mrecon\u001b[0m\u001b[0;34m,\u001b[0m \u001b[0moriginals\u001b[0m \u001b[0;34m=\u001b[0m \u001b[0mreconstruct_with_diffuse_vae\u001b[0m\u001b[0;34m(\u001b[0m\u001b[0mvae\u001b[0m\u001b[0;34m,\u001b[0m \u001b[0mdiffusion_model\u001b[0m\u001b[0;34m,\u001b[0m \u001b[0mscheduler\u001b[0m\u001b[0;34m,\u001b[0m \u001b[0mreal_batch\u001b[0m\u001b[0;34m,\u001b[0m \u001b[0mnum_samples\u001b[0m\u001b[0;34m=\u001b[0m\u001b[0;36m3\u001b[0m\u001b[0;34m)\u001b[0m\u001b[0;34m\u001b[0m\u001b[0;34m\u001b[0m\u001b[0m\n\u001b[0m\u001b[1;32m      8\u001b[0m \u001b[0;34m\u001b[0m\u001b[0m\n\u001b[1;32m      9\u001b[0m \u001b[0mshow_images\u001b[0m\u001b[0;34m(\u001b[0m\u001b[0moriginals\u001b[0m\u001b[0;34m,\u001b[0m \u001b[0mtitle\u001b[0m\u001b[0;34m=\u001b[0m\u001b[0;34m\"Originals\"\u001b[0m\u001b[0;34m)\u001b[0m\u001b[0;34m\u001b[0m\u001b[0;34m\u001b[0m\u001b[0m\n",
            "\u001b[0;32m<ipython-input-18-919bc9d913c2>\u001b[0m in \u001b[0;36mreconstruct_with_diffuse_vae\u001b[0;34m(vae, diffusion_model, scheduler, real_images, num_samples)\u001b[0m\n\u001b[1;32m     47\u001b[0m \u001b[0;34m\u001b[0m\u001b[0m\n\u001b[1;32m     48\u001b[0m     \u001b[0;32mwith\u001b[0m \u001b[0mtorch\u001b[0m\u001b[0;34m.\u001b[0m\u001b[0mno_grad\u001b[0m\u001b[0;34m(\u001b[0m\u001b[0;34m)\u001b[0m\u001b[0;34m:\u001b[0m\u001b[0;34m\u001b[0m\u001b[0;34m\u001b[0m\u001b[0m\n\u001b[0;32m---> 49\u001b[0;31m         \u001b[0mz\u001b[0m \u001b[0;34m=\u001b[0m \u001b[0mvae\u001b[0m\u001b[0;34m.\u001b[0m\u001b[0mencode\u001b[0m\u001b[0;34m(\u001b[0m\u001b[0mimages\u001b[0m\u001b[0;34m)\u001b[0m\u001b[0;34m.\u001b[0m\u001b[0msample\u001b[0m\u001b[0;34m(\u001b[0m\u001b[0;34m)\u001b[0m\u001b[0;34m\u001b[0m\u001b[0;34m\u001b[0m\u001b[0m\n\u001b[0m\u001b[1;32m     50\u001b[0m         \u001b[0mx_hat_0\u001b[0m \u001b[0;34m=\u001b[0m \u001b[0mvae\u001b[0m\u001b[0;34m.\u001b[0m\u001b[0mdecode\u001b[0m\u001b[0;34m(\u001b[0m\u001b[0mz\u001b[0m\u001b[0;34m)\u001b[0m\u001b[0;34m\u001b[0m\u001b[0;34m\u001b[0m\u001b[0m\n\u001b[1;32m     51\u001b[0m \u001b[0;34m\u001b[0m\u001b[0m\n",
            "\u001b[0;31mAttributeError\u001b[0m: 'tuple' object has no attribute 'sample'"
          ]
        }
      ],
      "source": [
        "# 1. Generate 10 samples from scratch\n",
        "samples = sample_from_diffuse_vae(vae, diffusion_model, scheduler, num_samples=3)\n",
        "show_images(samples, title=\"Generated Samples\")\n",
        "\n",
        "# 2. Reconstruct 10 real images\n",
        "real_batch = next(iter(train_loader))[0]\n",
        "recon, originals = reconstruct_with_diffuse_vae(vae, diffusion_model, scheduler, real_batch, num_samples=3)\n",
        "\n",
        "show_images(originals, title=\"Originals\")\n",
        "show_images(recon, title=\"Reconstructed via VAE + DDPM\")\n"
      ]
    }
  ],
  "metadata": {
    "accelerator": "GPU",
    "colab": {
      "gpuType": "T4",
      "provenance": []
    },
    "kernelspec": {
      "display_name": "Python 3",
      "name": "python3"
    },
    "language_info": {
      "codemirror_mode": {
        "name": "ipython",
        "version": 3
      },
      "file_extension": ".py",
      "mimetype": "text/x-python",
      "name": "python",
      "nbconvert_exporter": "python",
      "pygments_lexer": "ipython3",
      "version": "3.9.20"
    }
  },
  "nbformat": 4,
  "nbformat_minor": 0
}